{
  "nbformat": 4,
  "nbformat_minor": 0,
  "metadata": {
    "colab": {
      "provenance": [],
      "authorship_tag": "ABX9TyMV7bqUpLjFvJ+l1BL6QkvY",
      "include_colab_link": true
    },
    "kernelspec": {
      "name": "python3",
      "display_name": "Python 3"
    },
    "language_info": {
      "name": "python"
    }
  },
  "cells": [
    {
      "cell_type": "markdown",
      "metadata": {
        "id": "view-in-github",
        "colab_type": "text"
      },
      "source": [
        "<a href=\"https://colab.research.google.com/github/Rajvira10/CSE427/blob/main/Assignment1(Perceptron).ipynb\" target=\"_parent\"><img src=\"https://colab.research.google.com/assets/colab-badge.svg\" alt=\"Open In Colab\"/></a>"
      ]
    },
    {
      "cell_type": "code",
      "source": [
        "import random\n",
        "\n",
        "# Generate hyperplane parameters a, b, c\n",
        "a = random.uniform(-10, 10)\n",
        "b = random.uniform(-10, 10)\n",
        "c = random.uniform(-10, 10)\n",
        "\n",
        "# Generate dataset\n",
        "n = 10000\n",
        "data = []\n",
        "for i in range(n):\n",
        "    x = random.uniform(-100, 100)\n",
        "    y = random.uniform(-100, 100)\n",
        "    if a*x + b*y + c >= 0:\n",
        "        label = 1\n",
        "    else:\n",
        "        label = -1\n",
        "    data.append((x, y, label))\n",
        "\n",
        "# Shuffle and split dataset into training and test sets\n",
        "random.shuffle(data)\n",
        "test_size = int(0.2 * n)\n",
        "test_data = data[:test_size]\n",
        "train_data = data[test_size:]\n",
        "\n",
        "# Perceptron algorithm\n",
        "w = [random.uniform(-1, 1), random.uniform(-1, 1), random.uniform(-1, 1)]\n",
        "max_iter = 1000\n",
        "for i in range(max_iter):\n",
        "    error = False\n",
        "    for x, y, label in train_data:\n",
        "        y_pred = w[0]*x + w[1]*y + w[2]\n",
        "        if label*y_pred <= 0:\n",
        "            w[0] += label*x\n",
        "            w[1] += label*y\n",
        "            w[2] += label\n",
        "            error = True\n",
        "    if not error:\n",
        "        break\n",
        "\n",
        "# Test hyperplane on test set\n",
        "correct = 0\n",
        "for x, y, label in test_data:\n",
        "    y_pred = w[0]*x + w[1]*y + w[2]\n",
        "    if label*y_pred > 0:\n",
        "        correct += 1\n",
        "\n",
        "accuracy = correct / test_size\n",
        "print(f\"Accuracy: {accuracy:.2f}\")\n"
      ],
      "metadata": {
        "colab": {
          "base_uri": "https://localhost:8080/"
        },
        "id": "BO69pNKUR5Ne",
        "outputId": "bb3988ba-afcc-40dc-b915-5d9620af3798"
      },
      "execution_count": 8,
      "outputs": [
        {
          "output_type": "stream",
          "name": "stdout",
          "text": [
            "Accuracy: 1.00\n"
          ]
        }
      ]
    },
    {
      "cell_type": "code",
      "source": [],
      "metadata": {
        "id": "4VMTEvFVSjar"
      },
      "execution_count": null,
      "outputs": []
    }
  ]
}